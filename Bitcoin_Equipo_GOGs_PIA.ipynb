{
  "nbformat": 4,
  "nbformat_minor": 0,
  "metadata": {
    "colab": {
      "name": "Bitcoin - Equipo GOGs PIA.ipynb",
      "provenance": [],
      "toc_visible": true
    },
    "kernelspec": {
      "name": "python3",
      "display_name": "Python 3"
    }
  },
  "cells": [
    {
      "cell_type": "markdown",
      "metadata": {
        "id": "l1Vt34hUiiMN"
      },
      "source": [
        "<div align=\"center\">\n",
        "<h1>Proyecto Integrador Académico</h1>\n",
        "<h2> Lab. Sistemas Adaptativos </h2>\n",
        "<h2> Equipo GOGs </h2>\n",
        "<p>Hora: Jueves M5</p>\n",
        "<p>Grupo: 403</p>\n",
        "<p>Salón: 9104</p>\n",
        "<p>Instructor:  Dra. Sara Elena Garza</p>\n",
        "</div>\n",
        "\n"
      ]
    },
    {
      "cell_type": "markdown",
      "metadata": {
        "id": "rtOtKLcje9Db"
      },
      "source": [
        "ANombre | Matrícula | Carrera\n",
        "-------|-----------|---------\n",
        "Gabriel Oliveira Galvão do Vale | 1889469 | ITS\n",
        "Alejandro Palacios Rangel | 1850453 | ITS\n",
        "Alan Ernesto Rangel Ipiña | 1746118 | ITS\n",
        "Jafet Zaccaro Baca | 1405000 | ITS\n",
        "Gerardo Flores Mora| 1841473 | ITS|\n",
        "Francisco Javier Serna López  | 1678747 | ITS"
      ]
    },
    {
      "cell_type": "markdown",
      "metadata": {
        "id": "Iu3fXyfkenvG"
      },
      "source": [
        "## Importe de librerías"
      ]
    },
    {
      "cell_type": "code",
      "metadata": {
        "id": "3DJN0Xh5d8mH"
      },
      "source": [
        "import pandas as pd"
      ],
      "execution_count": 2,
      "outputs": []
    },
    {
      "cell_type": "code",
      "metadata": {
        "id": "fLpy7CxY6DKY"
      },
      "source": [
        "def classify(current, future):\n",
        "    if float(future) > float(current):\n",
        "        return 1\n",
        "    else:\n",
        "        return 0\n"
      ],
      "execution_count": 3,
      "outputs": []
    },
    {
      "cell_type": "code",
      "metadata": {
        "id": "JRIfqCpY53lp"
      },
      "source": [
        "data = pd.read_csv('./BTC-USD.csv',names=['time', 'low', 'high', 'open', 'close', 'volume'])\n",
        "data.set_index(\"time\", inplace=True)\n",
        "data = data[[\"close\",\"volume\"]]"
      ],
      "execution_count": 4,
      "outputs": []
    },
    {
      "cell_type": "code",
      "metadata": {
        "id": "IxWpxImZ6hYy"
      },
      "source": [
        "data['future'] = data['close'].shift(-3)"
      ],
      "execution_count": 5,
      "outputs": []
    },
    {
      "cell_type": "code",
      "metadata": {
        "id": "z_BugONY8O9R"
      },
      "source": [
        "data['target'] = list(map(classify, data['close'], data['future']))"
      ],
      "execution_count": 6,
      "outputs": []
    },
    {
      "cell_type": "code",
      "metadata": {
        "id": "hLXt8fjTeBnJ",
        "colab": {
          "base_uri": "https://localhost:8080/",
          "height": 238
        },
        "outputId": "f36e805f-0f74-4b32-a026-bc5fa032fe00"
      },
      "source": [
        "data.head()"
      ],
      "execution_count": 7,
      "outputs": [
        {
          "output_type": "execute_result",
          "data": {
            "text/html": [
              "<div>\n",
              "<style scoped>\n",
              "    .dataframe tbody tr th:only-of-type {\n",
              "        vertical-align: middle;\n",
              "    }\n",
              "\n",
              "    .dataframe tbody tr th {\n",
              "        vertical-align: top;\n",
              "    }\n",
              "\n",
              "    .dataframe thead th {\n",
              "        text-align: right;\n",
              "    }\n",
              "</style>\n",
              "<table border=\"1\" class=\"dataframe\">\n",
              "  <thead>\n",
              "    <tr style=\"text-align: right;\">\n",
              "      <th></th>\n",
              "      <th>close</th>\n",
              "      <th>volume</th>\n",
              "      <th>future</th>\n",
              "      <th>target</th>\n",
              "    </tr>\n",
              "    <tr>\n",
              "      <th>time</th>\n",
              "      <th></th>\n",
              "      <th></th>\n",
              "      <th></th>\n",
              "      <th></th>\n",
              "    </tr>\n",
              "  </thead>\n",
              "  <tbody>\n",
              "    <tr>\n",
              "      <th>1528968660</th>\n",
              "      <td>6489.549805</td>\n",
              "      <td>0.587100</td>\n",
              "      <td>6479.410156</td>\n",
              "      <td>0</td>\n",
              "    </tr>\n",
              "    <tr>\n",
              "      <th>1528968720</th>\n",
              "      <td>6487.379883</td>\n",
              "      <td>7.706374</td>\n",
              "      <td>6479.979980</td>\n",
              "      <td>0</td>\n",
              "    </tr>\n",
              "    <tr>\n",
              "      <th>1528968780</th>\n",
              "      <td>6479.410156</td>\n",
              "      <td>3.088252</td>\n",
              "      <td>6480.000000</td>\n",
              "      <td>1</td>\n",
              "    </tr>\n",
              "    <tr>\n",
              "      <th>1528968840</th>\n",
              "      <td>6479.410156</td>\n",
              "      <td>1.404100</td>\n",
              "      <td>6477.220215</td>\n",
              "      <td>0</td>\n",
              "    </tr>\n",
              "    <tr>\n",
              "      <th>1528968900</th>\n",
              "      <td>6479.979980</td>\n",
              "      <td>0.753000</td>\n",
              "      <td>6480.000000</td>\n",
              "      <td>1</td>\n",
              "    </tr>\n",
              "  </tbody>\n",
              "</table>\n",
              "</div>"
            ],
            "text/plain": [
              "                  close    volume       future  target\n",
              "time                                                  \n",
              "1528968660  6489.549805  0.587100  6479.410156       0\n",
              "1528968720  6487.379883  7.706374  6479.979980       0\n",
              "1528968780  6479.410156  3.088252  6480.000000       1\n",
              "1528968840  6479.410156  1.404100  6477.220215       0\n",
              "1528968900  6479.979980  0.753000  6480.000000       1"
            ]
          },
          "metadata": {
            "tags": []
          },
          "execution_count": 7
        }
      ]
    },
    {
      "cell_type": "code",
      "metadata": {
        "id": "fonelYId6qNs"
      },
      "source": [
        "datos_prueba = data[(data[\"future\"].isna())]\n",
        "datos_entrenamiento = data.dropna()"
      ],
      "execution_count": 8,
      "outputs": []
    }
  ]
}